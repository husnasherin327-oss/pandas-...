{
 "cells": [
  {
   "cell_type": "code",
   "execution_count": 1,
   "id": "9883a6df-06de-46d0-8ef0-ab2690390f13",
   "metadata": {},
   "outputs": [],
   "source": [
    "import pandas as pd"
   ]
  },
  {
   "cell_type": "markdown",
   "id": "1b2e52d2-2ce3-4928-bbb4-7130ec8464d1",
   "metadata": {},
   "source": [
    "# series"
   ]
  },
  {
   "cell_type": "code",
   "execution_count": 35,
   "id": "4c3f654f-fa5a-4af7-b4e7-cbae2df6b360",
   "metadata": {},
   "outputs": [
    {
     "name": "stdout",
     "output_type": "stream",
     "text": [
      "Series([], dtype: object)\n"
     ]
    }
   ],
   "source": [
    "# empty series\n",
    "s=pd.Series()\n",
    "print(s)\n"
   ]
  },
  {
   "cell_type": "code",
   "execution_count": 36,
   "id": "7044d15c-4d5d-4368-8001-2c9b89a8dd46",
   "metadata": {},
   "outputs": [
    {
     "name": "stdout",
     "output_type": "stream",
     "text": [
      "Series([], dtype: int64)\n"
     ]
    }
   ],
   "source": [
    "s=pd.Series(dtype='int')\n",
    "print(s)"
   ]
  },
  {
   "cell_type": "code",
   "execution_count": 37,
   "id": "56757d4f-d82f-41f9-9e3e-fc2be23dd1df",
   "metadata": {},
   "outputs": [
    {
     "name": "stdout",
     "output_type": "stream",
     "text": [
      "Series([], dtype: object)\n"
     ]
    }
   ],
   "source": [
    "s=pd.Series(dtype='object')\n",
    "print(s)"
   ]
  },
  {
   "cell_type": "code",
   "execution_count": 38,
   "id": "53f25975-b41a-454e-bd0a-68ddc56c1cc3",
   "metadata": {},
   "outputs": [
    {
     "name": "stdout",
     "output_type": "stream",
     "text": [
      "Series([], dtype: float64)\n"
     ]
    }
   ],
   "source": [
    "s=pd.Series(dtype='float')\n",
    "print(s)"
   ]
  },
  {
   "cell_type": "code",
   "execution_count": 39,
   "id": "5e361ba9-14e5-4425-a8bc-d8ae3b32cf4b",
   "metadata": {},
   "outputs": [],
   "source": [
    "import numpy as np\n",
    "import pandas as pd"
   ]
  },
  {
   "cell_type": "code",
   "execution_count": 40,
   "id": "8ec75f57-e08b-42d8-aa64-7b433a06e06c",
   "metadata": {},
   "outputs": [
    {
     "name": "stdout",
     "output_type": "stream",
     "text": [
      "0    a\n",
      "1    b\n",
      "2    c\n",
      "3    d\n",
      "dtype: object\n"
     ]
    }
   ],
   "source": [
    "a=np.array(['a','b','c','d'])\n",
    "s=pd.Series(a)\n",
    "print(s)"
   ]
  },
  {
   "cell_type": "code",
   "execution_count": 41,
   "id": "99b51f6a-e42f-46f5-b105-3550fc690a82",
   "metadata": {},
   "outputs": [
    {
     "name": "stdout",
     "output_type": "stream",
     "text": [
      "100    a\n",
      "101    b\n",
      "102    c\n",
      "103    d\n",
      "dtype: object\n"
     ]
    }
   ],
   "source": [
    "a=np.array(['a','b','c','d'])\n",
    "s=pd.Series(a,index=[100,101,102,103])\n",
    "print(s)"
   ]
  },
  {
   "cell_type": "code",
   "execution_count": 42,
   "id": "78f2a3f5-cae9-4344-ad19-328db0ae9e73",
   "metadata": {},
   "outputs": [
    {
     "name": "stdout",
     "output_type": "stream",
     "text": [
      "a    1\n",
      "b    2\n",
      "c    3\n",
      "dtype: int64\n"
     ]
    }
   ],
   "source": [
    "#series from dictnory\n",
    "data={'a':1,'b':2,'c':3}\n",
    "s=pd.Series(data)\n",
    "print(s)"
   ]
  },
  {
   "cell_type": "code",
   "execution_count": 43,
   "id": "69c5df80-85d3-4721-bd85-d549d20c0485",
   "metadata": {},
   "outputs": [
    {
     "name": "stdout",
     "output_type": "stream",
     "text": [
      "b    2.0\n",
      "c    3.0\n",
      "a    1.0\n",
      "d    NaN\n",
      "dtype: float64\n"
     ]
    }
   ],
   "source": [
    "data={'a':1,'b':2,'c':3}\n",
    "s=pd.Series(data,index=['b','c','a','d'])# no value for d so in output it became null\n",
    "print(s)"
   ]
  },
  {
   "cell_type": "code",
   "execution_count": 44,
   "id": "09790bc6-3023-4e7a-9629-0314441c3a11",
   "metadata": {},
   "outputs": [
    {
     "name": "stdout",
     "output_type": "stream",
     "text": [
      "1    4\n",
      "2    4\n",
      "3    4\n",
      "4    4\n",
      "5    4\n",
      "dtype: int64\n"
     ]
    }
   ],
   "source": [
    "#scalar\n",
    "s=pd.Series(4,index=[1,2,3,4,5])\n",
    "print(s)"
   ]
  },
  {
   "cell_type": "code",
   "execution_count": 45,
   "id": "347576b6-104a-428e-a402-5abd1d2f644d",
   "metadata": {},
   "outputs": [
    {
     "name": "stdout",
     "output_type": "stream",
     "text": [
      "1    5\n",
      "2    5\n",
      "3    5\n",
      "4    5\n",
      "5    5\n",
      "dtype: int64\n"
     ]
    }
   ],
   "source": [
    "s=pd.Series(5,index=[1,2,3,4,5])\n",
    "print(s)"
   ]
  },
  {
   "cell_type": "code",
   "execution_count": 46,
   "id": "e970fe1a-0cbc-4c84-ab95-29ee65247945",
   "metadata": {},
   "outputs": [
    {
     "name": "stdout",
     "output_type": "stream",
     "text": [
      "a    5\n",
      "b    5\n",
      "c    5\n",
      "dtype: int64\n"
     ]
    }
   ],
   "source": [
    "s=pd.Series(5,index=['a','b','c'])\n",
    "print(s)"
   ]
  },
  {
   "cell_type": "code",
   "execution_count": 47,
   "id": "b34d4d17-5c51-478b-9a85-bbc5a53141b6",
   "metadata": {},
   "outputs": [
    {
     "name": "stdout",
     "output_type": "stream",
     "text": [
      "a    1\n",
      "b    2\n",
      "c    3\n",
      "d    4\n",
      "e    5\n",
      "dtype: int64\n",
      "1\n",
      "\n",
      "a    1\n",
      "b    2\n",
      "c    3\n",
      "dtype: int64\n",
      "\n",
      "c    3\n",
      "d    4\n",
      "e    5\n",
      "dtype: int64\n",
      "\n",
      "c    3\n",
      "d    4\n",
      "e    5\n",
      "dtype: int64\n",
      "\n",
      "2\n",
      "\n",
      "a    1\n",
      "b    2\n",
      "c    3\n",
      "dtype: int64\n"
     ]
    },
    {
     "name": "stderr",
     "output_type": "stream",
     "text": [
      "C:\\Users\\husna\\AppData\\Local\\Temp\\ipykernel_13468\\800383339.py:4: FutureWarning: Series.__getitem__ treating keys as positions is deprecated. In a future version, integer keys will always be treated as labels (consistent with DataFrame behavior). To access a value by position, use `ser.iloc[pos]`\n",
      "  print(s[0]) #single element accessing\n"
     ]
    }
   ],
   "source": [
    "#accessing values from series\n",
    "s=pd.Series([1,2,3,4,5],index=['a','b','c','d','e'])\n",
    "print(s)\n",
    "print(s[0]) #single element accessing\n",
    "print()\n",
    "print(s[:3])#  slicing\n",
    "print()\n",
    "print(s[2:]) # last value\n",
    "print()\n",
    "print(s[-3:])\n",
    "print()\n",
    "print(s['b'])\n",
    "print()\n",
    "print(s[['a','b','c']])  #multple element accessing\n"
   ]
  },
  {
   "cell_type": "markdown",
   "id": "8f19f236-f520-4d1f-91bd-807bb67144ef",
   "metadata": {},
   "source": [
    "# arithmetic operation"
   ]
  },
  {
   "cell_type": "code",
   "execution_count": 48,
   "id": "c4040c87-cbff-4522-8f8a-19641b34d7c7",
   "metadata": {},
   "outputs": [
    {
     "name": "stdout",
     "output_type": "stream",
     "text": [
      "USA        1\n",
      "Germany    2\n",
      "Italy      3\n",
      "Japan      4\n",
      "dtype: int64\n"
     ]
    }
   ],
   "source": [
    "ser1=pd.Series([1,2,3,4],index=['USA','Germany','Italy','Japan'])\n",
    "print(ser1)"
   ]
  },
  {
   "cell_type": "code",
   "execution_count": 49,
   "id": "9c8f2c2a-9f4a-480f-800a-33dd7361d4fb",
   "metadata": {},
   "outputs": [
    {
     "name": "stdout",
     "output_type": "stream",
     "text": [
      "USA        1\n",
      "Germany    2\n",
      "Russia     5\n",
      "Japan      4\n",
      "dtype: int64\n"
     ]
    }
   ],
   "source": [
    "ser2=pd.Series([1,2,5,4],index=['USA','Germany','Russia','Japan'])\n",
    "print(ser2)"
   ]
  },
  {
   "cell_type": "code",
   "execution_count": 50,
   "id": "c6edfe2f-8ab0-446a-9837-4c3d2328d525",
   "metadata": {},
   "outputs": [
    {
     "name": "stdout",
     "output_type": "stream",
     "text": [
      "\n"
     ]
    },
    {
     "data": {
      "text/plain": [
       "Germany    0.0\n",
       "Italy      NaN\n",
       "Japan      0.0\n",
       "Russia     NaN\n",
       "USA        0.0\n",
       "dtype: float64"
      ]
     },
     "execution_count": 50,
     "metadata": {},
     "output_type": "execute_result"
    }
   ],
   "source": [
    "ser1+ser2 # addition\n",
    "print()\n",
    "ser1-ser2 # substaction"
   ]
  },
  {
   "cell_type": "markdown",
   "id": "9be565cf-15b4-47a0-8e8d-e80901cf7aca",
   "metadata": {},
   "source": [
    "# data frame"
   ]
  },
  {
   "cell_type": "code",
   "execution_count": 51,
   "id": "ed83851e-039d-48ad-8f1f-ed1ff8c399cb",
   "metadata": {},
   "outputs": [
    {
     "name": "stdout",
     "output_type": "stream",
     "text": [
      "Empty DataFrame\n",
      "Columns: []\n",
      "Index: []\n"
     ]
    }
   ],
   "source": [
    "#  creating an empty dataframe\n",
    "df=pd.DataFrame()\n",
    "print(df)"
   ]
  },
  {
   "cell_type": "code",
   "execution_count": 52,
   "id": "0adba098-31f0-4481-88cc-b1fb98a30abb",
   "metadata": {},
   "outputs": [
    {
     "name": "stdout",
     "output_type": "stream",
     "text": [
      "   0\n",
      "0  1\n",
      "1  2\n",
      "2  3\n",
      "3  4\n",
      "4  5\n"
     ]
    }
   ],
   "source": [
    "# creating a dataframe from a list\n",
    "data=[1,2,3,4,5]\n",
    "df=pd.DataFrame(data)\n",
    "print(df)"
   ]
  },
  {
   "cell_type": "code",
   "execution_count": 55,
   "id": "42bae72e-f865-49ec-9973-fd7d15fa876d",
   "metadata": {},
   "outputs": [
    {
     "name": "stdout",
     "output_type": "stream",
     "text": [
      "    Name  Age\n",
      "0   alex   10\n",
      "1    bob   12\n",
      "2  clara   13\n"
     ]
    }
   ],
   "source": [
    "# creating df from list of list\n",
    "data=[['alex',10],['bob',12],['clara',13]]\n",
    "df=pd.DataFrame(data,columns=['Name','Age'])\n",
    "print(df)"
   ]
  },
  {
   "cell_type": "code",
   "execution_count": 67,
   "id": "2a88e48d-f370-4927-af89-7e48a96e08aa",
   "metadata": {},
   "outputs": [
    {
     "name": "stdout",
     "output_type": "stream",
     "text": [
      "    name  Age\n",
      "0    tom   23\n",
      "1   jack   21\n",
      "2  ricky   24\n",
      "shape:\n",
      "(3, 2)\n",
      "\n",
      "row labels:\n",
      "RangeIndex(start=0, stop=3, step=1)\n",
      "\n",
      "coloum labels:\n",
      "Index(['name', 'Age'], dtype='object')\n",
      "\n",
      "datatype:\n",
      "name    object\n",
      "Age      int64\n",
      "dtype: object\n",
      "\n",
      "data as numpy array\n",
      "[['tom' 23]\n",
      " ['jack' 21]\n",
      " ['ricky' 24]]\n",
      "\n",
      "quick overview of the DataFrame’s structure.:\n",
      "<class 'pandas.core.frame.DataFrame'>\n",
      "RangeIndex: 3 entries, 0 to 2\n",
      "Data columns (total 2 columns):\n",
      " #   Column  Non-Null Count  Dtype \n",
      "---  ------  --------------  ----- \n",
      " 0   name    3 non-null      object\n",
      " 1   Age     3 non-null      int64 \n",
      "dtypes: int64(1), object(1)\n",
      "memory usage: 180.0+ bytes\n",
      "None\n",
      "\n",
      "statistical summary of numeric columns (by default).\n",
      "             Age\n",
      "count   3.000000\n",
      "mean   22.666667\n",
      "std     1.527525\n",
      "min    21.000000\n",
      "25%    22.000000\n",
      "50%    23.000000\n",
      "75%    23.500000\n",
      "max    24.000000\n"
     ]
    }
   ],
   "source": [
    "# df from a dictnory of a list\n",
    "data={'name':['tom','jack','ricky'],\n",
    "     'Age':[23,21,24]}\n",
    "df=pd.DataFrame(data)\n",
    "print(df)\n",
    "print(\"shape:\")\n",
    "print(df.shape)# shape\n",
    "print()\n",
    "print(\"row labels:\")\n",
    "print(df.index)\n",
    "print()\n",
    "print(\"coloum labels:\")\n",
    "print(df.columns)\n",
    "print()\n",
    "print(\"datatype:\")\n",
    "\n",
    "print(df.dtypes)\n",
    "print()\n",
    "print(\"data as numpy array\")\n",
    "print(df.values)\n",
    "print()\n",
    "print(\"quick overview of the DataFrame’s structure.:\")\n",
    "print(df.info())\n",
    "print()\n",
    "print(\"statistical summary of numeric columns (by default).\")\n",
    "print(df.describe())\n",
    "\n"
   ]
  },
  {
   "cell_type": "code",
   "execution_count": 59,
   "id": "77f7a5f8-10d4-42b1-83ca-3b00f95a76a9",
   "metadata": {},
   "outputs": [
    {
     "name": "stdout",
     "output_type": "stream",
     "text": [
      "   one  two\n",
      "a  1.0    1\n",
      "b  2.0    2\n",
      "c  3.0    3\n",
      "d  NaN    4\n"
     ]
    }
   ],
   "source": [
    "# df from dictnory of series\n",
    "d={'one':pd.Series([1,2,3],index=['a','b','c']),\n",
    "  'two':pd.Series([1,2,3,4],index=['a','b','c','d'])}\n",
    "df=pd.DataFrame(d)\n",
    "print(df)"
   ]
  },
  {
   "cell_type": "code",
   "execution_count": 69,
   "id": "1949d265-5524-4bc5-a447-109d0827b327",
   "metadata": {},
   "outputs": [
    {
     "name": "stdout",
     "output_type": "stream",
     "text": [
      "    Name  Age  Score\n",
      "0    Anu   21     58\n",
      "1    joe   22     99\n",
      "2    sam   23     87\n",
      "3  lilly   24     76\n",
      "\n",
      "quick overview of the DataFrame’s structure.:\n",
      "<class 'pandas.core.frame.DataFrame'>\n",
      "RangeIndex: 4 entries, 0 to 3\n",
      "Data columns (total 3 columns):\n",
      " #   Column  Non-Null Count  Dtype \n",
      "---  ------  --------------  ----- \n",
      " 0   Name    4 non-null      object\n",
      " 1   Age     4 non-null      int64 \n",
      " 2   Score   4 non-null      int64 \n",
      "dtypes: int64(2), object(1)\n",
      "memory usage: 228.0+ bytes\n",
      "None\n",
      "\n",
      "statistical summary of numeric columns (by default).\n",
      "             Age      Score\n",
      "count   4.000000   4.000000\n",
      "mean   22.500000  80.000000\n",
      "std     1.290994  17.416467\n",
      "min    21.000000  58.000000\n",
      "25%    21.750000  71.500000\n",
      "50%    22.500000  81.500000\n",
      "75%    23.250000  90.000000\n",
      "max    24.000000  99.000000\n"
     ]
    }
   ],
   "source": [
    "d={'Name':['Anu','joe','sam','lilly'],\n",
    "  'Age':[21,22,23,24],\n",
    "   'Score':[58,99,87,76]\n",
    "}\n",
    "df=pd.DataFrame(d)\n",
    "print(df)\n",
    "print()\n",
    "print(\"quick overview of the DataFrame’s structure.:\")\n",
    "print(df.info())\n",
    "print()\n",
    "print(\"statistical summary of numeric columns (by default).\")\n",
    "print(df.describe())\n",
    "\n"
   ]
  },
  {
   "cell_type": "markdown",
   "id": "f138875a-d604-42dd-b995-08b7e6cce83e",
   "metadata": {},
   "source": [
    "### Create a Series from a Python list."
   ]
  },
  {
   "cell_type": "code",
   "execution_count": 70,
   "id": "1036fa55-343d-4756-9374-e9a0de0c126f",
   "metadata": {},
   "outputs": [
    {
     "name": "stdout",
     "output_type": "stream",
     "text": [
      "0    1\n",
      "1    2\n",
      "2    3\n",
      "3    4\n",
      "dtype: int64\n"
     ]
    }
   ],
   "source": [
    "li=[1,2,3,4]\n",
    "s=pd.Series(li)\n",
    "print(s)"
   ]
  },
  {
   "cell_type": "markdown",
   "id": "7a635aff-8bdf-4459-92d3-bc34d47da944",
   "metadata": {},
   "source": [
    "### Create a DataFrame from a dictionary."
   ]
  },
  {
   "cell_type": "code",
   "execution_count": 71,
   "id": "35eb7c7f-1842-432e-84a0-5c18b2d462c4",
   "metadata": {},
   "outputs": [
    {
     "name": "stdout",
     "output_type": "stream",
     "text": [
      "   name  Age\n",
      "0  alex   21\n",
      "1   joe   22\n",
      "2   max   23\n"
     ]
    }
   ],
   "source": [
    "di={'name':['alex','joe','max'],\n",
    "   'Age':[21,22,23]}\n",
    "df=pd.DataFrame(di)\n",
    "print(df)"
   ]
  },
  {
   "cell_type": "markdown",
   "id": "415f9cee-482a-4255-8924-52a0bac855c1",
   "metadata": {},
   "source": [
    "### Display DataFrame shape and column names"
   ]
  },
  {
   "cell_type": "code",
   "execution_count": 72,
   "id": "77a14ccd-129f-42dc-afa4-fdbab1c1eaf8",
   "metadata": {},
   "outputs": [
    {
     "name": "stdout",
     "output_type": "stream",
     "text": [
      "   name  Age\n",
      "0  alex   21\n",
      "1   joe   22\n",
      "2   max   23\n",
      "\n",
      "shape:\n",
      "(3, 2)\n",
      "\n",
      "coloum names:\n",
      "Index(['name', 'Age'], dtype='object')\n"
     ]
    }
   ],
   "source": [
    "di={'name':['alex','joe','max'],\n",
    "   'Age':[21,22,23]}\n",
    "df=pd.DataFrame(di)\n",
    "print(df)\n",
    "print()\n",
    "print(\"shape:\")\n",
    "print(df.shape)\n",
    "print()\n",
    "print(\"coloum names:\")\n",
    "print(df.columns)"
   ]
  },
  {
   "cell_type": "markdown",
   "id": "4fddac5e-755b-442f-8fd7-dafe592e64e1",
   "metadata": {},
   "source": [
    "### Create a Series of numbers 1–10."
   ]
  },
  {
   "cell_type": "code",
   "execution_count": 73,
   "id": "d2def4ff-5191-41c4-964d-49aebaaf39b0",
   "metadata": {},
   "outputs": [
    {
     "name": "stdout",
     "output_type": "stream",
     "text": [
      "0     1\n",
      "1     2\n",
      "2     3\n",
      "3     4\n",
      "4     5\n",
      "5     6\n",
      "6     7\n",
      "7     8\n",
      "8     9\n",
      "9    10\n",
      "dtype: int64\n"
     ]
    }
   ],
   "source": [
    "a=np.arange(1,11)\n",
    "s=pd.Series(a)\n",
    "print(s)"
   ]
  },
  {
   "cell_type": "markdown",
   "id": "c995b6de-a945-42be-9394-e6788805cab8",
   "metadata": {},
   "source": [
    "### Create a DataFrame with two columns: Name, Age."
   ]
  },
  {
   "cell_type": "code",
   "execution_count": 74,
   "id": "800249f5-2a84-4f30-bc99-46f742e5a0ee",
   "metadata": {},
   "outputs": [
    {
     "name": "stdout",
     "output_type": "stream",
     "text": [
      "    Name  Age\n",
      "0    joe   10\n",
      "1    bob   12\n",
      "2  clara   13\n"
     ]
    }
   ],
   "source": [
    "data=[['joe',10],['bob',12],['clara',13]]\n",
    "df=pd.DataFrame(data,columns=['Name','Age'])\n",
    "print(df)"
   ]
  },
  {
   "cell_type": "markdown",
   "id": "6a923861-0c3b-4d34-91b1-80fb5675a674",
   "metadata": {},
   "source": [
    "### Convert a NumPy array into a DataFrame"
   ]
  },
  {
   "cell_type": "code",
   "execution_count": 76,
   "id": "93b20ebc-cd36-49ed-abb9-207797a71c28",
   "metadata": {},
   "outputs": [
    {
     "name": "stdout",
     "output_type": "stream",
     "text": [
      "   0\n",
      "0  1\n",
      "1  2\n",
      "2  3\n",
      "3  4\n",
      "4  5\n"
     ]
    }
   ],
   "source": [
    "a=np.array([1,2,3,4,5])\n",
    "s=pd.DataFrame(a)\n",
    "print(s)"
   ]
  },
  {
   "cell_type": "markdown",
   "id": "1716c942-4f62-4f85-b623-b41b5a1e5ae7",
   "metadata": {},
   "source": [
    "### Rename the columns of a DataFrame."
   ]
  },
  {
   "cell_type": "code",
   "execution_count": 136,
   "id": "691df364-14f5-4c32-9654-487c114dda34",
   "metadata": {},
   "outputs": [
    {
     "data": {
      "text/html": [
       "<div>\n",
       "<style scoped>\n",
       "    .dataframe tbody tr th:only-of-type {\n",
       "        vertical-align: middle;\n",
       "    }\n",
       "\n",
       "    .dataframe tbody tr th {\n",
       "        vertical-align: top;\n",
       "    }\n",
       "\n",
       "    .dataframe thead th {\n",
       "        text-align: right;\n",
       "    }\n",
       "</style>\n",
       "<table border=\"1\" class=\"dataframe\">\n",
       "  <thead>\n",
       "    <tr style=\"text-align: right;\">\n",
       "      <th></th>\n",
       "      <th>name</th>\n",
       "      <th>score</th>\n",
       "    </tr>\n",
       "  </thead>\n",
       "  <tbody>\n",
       "    <tr>\n",
       "      <th>0</th>\n",
       "      <td>alex</td>\n",
       "      <td>21</td>\n",
       "    </tr>\n",
       "    <tr>\n",
       "      <th>1</th>\n",
       "      <td>joe</td>\n",
       "      <td>22</td>\n",
       "    </tr>\n",
       "    <tr>\n",
       "      <th>2</th>\n",
       "      <td>max</td>\n",
       "      <td>23</td>\n",
       "    </tr>\n",
       "  </tbody>\n",
       "</table>\n",
       "</div>"
      ],
      "text/plain": [
       "   name  score\n",
       "0  alex     21\n",
       "1   joe     22\n",
       "2   max     23"
      ]
     },
     "execution_count": 136,
     "metadata": {},
     "output_type": "execute_result"
    }
   ],
   "source": [
    "di={'name':['alex','joe','max'],\n",
    "   'Age':[21,22,23]}\n",
    "df=pd.DataFrame(di)\n",
    "df.rename(columns={'Age':'score'},inplace=True) #one method\n",
    "df\n",
    "\n",
    "\n"
   ]
  },
  {
   "cell_type": "markdown",
   "id": "a3a38f46-d666-4288-97c3-0fb553088098",
   "metadata": {},
   "source": [
    "### Add a new column to a DataFrame that calculates the square of another column.\n"
   ]
  },
  {
   "cell_type": "code",
   "execution_count": 137,
   "id": "2fc3b402-12ef-4bb0-b612-e0bad9368045",
   "metadata": {},
   "outputs": [
    {
     "name": "stdout",
     "output_type": "stream",
     "text": [
      "   Number\n",
      "0       1\n",
      "1       2\n",
      "2       3\n",
      "3       4\n",
      "4       5\n"
     ]
    },
    {
     "data": {
      "text/html": [
       "<div>\n",
       "<style scoped>\n",
       "    .dataframe tbody tr th:only-of-type {\n",
       "        vertical-align: middle;\n",
       "    }\n",
       "\n",
       "    .dataframe tbody tr th {\n",
       "        vertical-align: top;\n",
       "    }\n",
       "\n",
       "    .dataframe thead th {\n",
       "        text-align: right;\n",
       "    }\n",
       "</style>\n",
       "<table border=\"1\" class=\"dataframe\">\n",
       "  <thead>\n",
       "    <tr style=\"text-align: right;\">\n",
       "      <th></th>\n",
       "      <th>Number</th>\n",
       "      <th>square</th>\n",
       "    </tr>\n",
       "  </thead>\n",
       "  <tbody>\n",
       "    <tr>\n",
       "      <th>0</th>\n",
       "      <td>1</td>\n",
       "      <td>1</td>\n",
       "    </tr>\n",
       "    <tr>\n",
       "      <th>1</th>\n",
       "      <td>2</td>\n",
       "      <td>4</td>\n",
       "    </tr>\n",
       "    <tr>\n",
       "      <th>2</th>\n",
       "      <td>3</td>\n",
       "      <td>9</td>\n",
       "    </tr>\n",
       "    <tr>\n",
       "      <th>3</th>\n",
       "      <td>4</td>\n",
       "      <td>16</td>\n",
       "    </tr>\n",
       "    <tr>\n",
       "      <th>4</th>\n",
       "      <td>5</td>\n",
       "      <td>25</td>\n",
       "    </tr>\n",
       "  </tbody>\n",
       "</table>\n",
       "</div>"
      ],
      "text/plain": [
       "   Number  square\n",
       "0       1       1\n",
       "1       2       4\n",
       "2       3       9\n",
       "3       4      16\n",
       "4       5      25"
      ]
     },
     "execution_count": 137,
     "metadata": {},
     "output_type": "execute_result"
    }
   ],
   "source": [
    "di={'Number':[1,2,3,4,5]}\n",
    "df=pd.DataFrame(di)\n",
    "print(df)\n",
    "df['square']=df['Number']**2\n",
    "df"
   ]
  },
  {
   "cell_type": "markdown",
   "id": "e497819c-6e5d-4e17-9ecb-3aa233444d16",
   "metadata": {},
   "source": [
    "# extra problems"
   ]
  },
  {
   "cell_type": "markdown",
   "id": "4c27fbb8-ead2-40fd-980b-9cc39dc25d51",
   "metadata": {},
   "source": [
    "### Create a Pandas Series of 15 random integers between 1 and 50."
   ]
  },
  {
   "cell_type": "code",
   "execution_count": 87,
   "id": "34ca118e-8085-4abf-84b9-05ae44ce1c4d",
   "metadata": {},
   "outputs": [
    {
     "name": "stdout",
     "output_type": "stream",
     "text": [
      "0     12\n",
      "1     39\n",
      "2     17\n",
      "3     12\n",
      "4     39\n",
      "5     31\n",
      "6      6\n",
      "7     16\n",
      "8     15\n",
      "9     23\n",
      "10     2\n",
      "11    16\n",
      "12    13\n",
      "13    19\n",
      "14    31\n",
      "dtype: int32\n"
     ]
    }
   ],
   "source": [
    "a=np.random.randint(1,50,15)\n",
    "s=pd.Series(a)\n",
    "print(s)"
   ]
  },
  {
   "cell_type": "markdown",
   "id": "c17a2ce7-1c36-43de-b403-8e293b1dbf04",
   "metadata": {},
   "source": [
    "### Create a Series with the first 20 even numbers."
   ]
  },
  {
   "cell_type": "code",
   "execution_count": 88,
   "id": "79423640-0614-4dc6-8aa7-304de3ac8b57",
   "metadata": {},
   "outputs": [
    {
     "name": "stdout",
     "output_type": "stream",
     "text": [
      "[ 0  2  4  6  8 10 12 14 16 18 20]\n",
      "\n",
      "0      0\n",
      "1      2\n",
      "2      4\n",
      "3      6\n",
      "4      8\n",
      "5     10\n",
      "6     12\n",
      "7     14\n",
      "8     16\n",
      "9     18\n",
      "10    20\n",
      "dtype: int64\n"
     ]
    }
   ],
   "source": [
    "a=np.arange(0,21,2)\n",
    "print(a)\n",
    "print()\n",
    "s=pd.Series(a)\n",
    "print(s)"
   ]
  },
  {
   "cell_type": "markdown",
   "id": "0ba96146-5af4-40ce-a753-167c200d9b95",
   "metadata": {},
   "source": [
    "### Create a Series from a dictionary: {'Math': 90, 'Physics': 85, 'Chemistry': 88} and display its index and values."
   ]
  },
  {
   "cell_type": "code",
   "execution_count": 97,
   "id": "0fcec1bb-5415-4aa6-baa4-f90a126cabf6",
   "metadata": {},
   "outputs": [
    {
     "name": "stdout",
     "output_type": "stream",
     "text": [
      "subject    [math, physics, chemistry]\n",
      "marks                    [90, 85, 88]\n",
      "dtype: object\n",
      "\n",
      "Index(['subject', 'marks'], dtype='object')\n",
      "\n",
      "[list(['math', 'physics', 'chemistry']) list([90, 85, 88])]\n"
     ]
    }
   ],
   "source": [
    "dictionary:{'Math': 90, 'Physics': 85, 'Chemistry': 88}\n",
    "s=pd.Series(dictionary)\n",
    "print(s)\n",
    "print()\n",
    "print(s.index)\n",
    "print()\n",
    "print(s.values)"
   ]
  },
  {
   "cell_type": "markdown",
   "id": "cff0a9ae-6f56-49fc-aed6-23f649bf53b4",
   "metadata": {},
   "source": [
    "### Convert a NumPy array of size 10 with values from 0–9 into a Pandas Series."
   ]
  },
  {
   "cell_type": "code",
   "execution_count": 104,
   "id": "d3260ea5-e1e3-4e01-a1a6-80a1d4feed04",
   "metadata": {},
   "outputs": [
    {
     "name": "stdout",
     "output_type": "stream",
     "text": [
      "[0 1 2 3 4 5 6 7 8 9]\n",
      "the converted panda series is:\n",
      "0    0\n",
      "1    1\n",
      "2    2\n",
      "3    3\n",
      "4    4\n",
      "5    5\n",
      "6    6\n",
      "7    7\n",
      "8    8\n",
      "9    9\n",
      "dtype: int64\n"
     ]
    }
   ],
   "source": [
    "a=np.arange(0,10)\n",
    "print(a)\n",
    "s=pd.Series(a)\n",
    "print(\"the converted panda series is:\")\n",
    "print(s)"
   ]
  },
  {
   "cell_type": "markdown",
   "id": "41250ea1-7d26-41ff-bfdd-1ea2e6163219",
   "metadata": {},
   "source": [
    "### Create a Series and select only the elements greater than 5."
   ]
  },
  {
   "cell_type": "code",
   "execution_count": 106,
   "id": "bccdef17-2806-44cd-8636-2a6913ce7659",
   "metadata": {},
   "outputs": [
    {
     "name": "stdout",
     "output_type": "stream",
     "text": [
      "[ 1  2  3  4  5  6  7  8  9 10 11 12 13 14 15 16 17 18 19]\n",
      "the series is\n",
      "0      1\n",
      "1      2\n",
      "2      3\n",
      "3      4\n",
      "4      5\n",
      "5      6\n",
      "6      7\n",
      "7      8\n",
      "8      9\n",
      "9     10\n",
      "10    11\n",
      "11    12\n",
      "12    13\n",
      "13    14\n",
      "14    15\n",
      "15    16\n",
      "16    17\n",
      "17    18\n",
      "18    19\n",
      "dtype: int64\n",
      "the elements greater tha 5 is\n",
      "5      6\n",
      "6      7\n",
      "7      8\n",
      "8      9\n",
      "9     10\n",
      "10    11\n",
      "11    12\n",
      "12    13\n",
      "13    14\n",
      "14    15\n",
      "15    16\n",
      "16    17\n",
      "17    18\n",
      "18    19\n",
      "dtype: int64\n"
     ]
    }
   ],
   "source": [
    "a=np.arange(1,20)\n",
    "print(a)\n",
    "s=pd.Series(a)\n",
    "print(\"the series is\")\n",
    "print(s)\n",
    "g=s[s>5]\n",
    "print(\"the elements greater tha 5 is\")\n",
    "print(g)\n"
   ]
  },
  {
   "cell_type": "markdown",
   "id": "eaa94cd5-9282-427d-9af6-f2e9500194dd",
   "metadata": {},
   "source": [
    "### Create a Series and change its index to custom labels (like A, B, C, …)"
   ]
  },
  {
   "cell_type": "code",
   "execution_count": 135,
   "id": "99c99306-90a3-472f-bd2c-4872fea17baf",
   "metadata": {},
   "outputs": [
    {
     "name": "stdout",
     "output_type": "stream",
     "text": [
      "0    1\n",
      "1    2\n",
      "2    3\n",
      "3    4\n",
      "dtype: int64\n"
     ]
    },
    {
     "data": {
      "text/plain": [
       "A    1\n",
       "B    2\n",
       "c    3\n",
       "D    4\n",
       "dtype: int64"
      ]
     },
     "execution_count": 135,
     "metadata": {},
     "output_type": "execute_result"
    }
   ],
   "source": [
    "da=[1,2,3,4]\n",
    "s=pd.Series(da)\n",
    "print(s)\n",
    "s.index=['A','B','c','D']\n",
    "s"
   ]
  },
  {
   "cell_type": "markdown",
   "id": "0b3c55d9-5ccf-4129-9020-87809d5c7dca",
   "metadata": {},
   "source": [
    "### Create a DataFrame with 3 columns: Student, Math, Physics using lists."
   ]
  },
  {
   "cell_type": "code",
   "execution_count": 134,
   "id": "db619918-33f8-431b-bb1a-1ddd76216358",
   "metadata": {},
   "outputs": [
    {
     "data": {
      "text/html": [
       "<div>\n",
       "<style scoped>\n",
       "    .dataframe tbody tr th:only-of-type {\n",
       "        vertical-align: middle;\n",
       "    }\n",
       "\n",
       "    .dataframe tbody tr th {\n",
       "        vertical-align: top;\n",
       "    }\n",
       "\n",
       "    .dataframe thead th {\n",
       "        text-align: right;\n",
       "    }\n",
       "</style>\n",
       "<table border=\"1\" class=\"dataframe\">\n",
       "  <thead>\n",
       "    <tr style=\"text-align: right;\">\n",
       "      <th></th>\n",
       "      <th>student</th>\n",
       "      <th>Maths</th>\n",
       "      <th>Pysics</th>\n",
       "    </tr>\n",
       "  </thead>\n",
       "  <tbody>\n",
       "    <tr>\n",
       "      <th>0</th>\n",
       "      <td>bob</td>\n",
       "      <td>40</td>\n",
       "      <td>78</td>\n",
       "    </tr>\n",
       "    <tr>\n",
       "      <th>1</th>\n",
       "      <td>Alice</td>\n",
       "      <td>46</td>\n",
       "      <td>98</td>\n",
       "    </tr>\n",
       "    <tr>\n",
       "      <th>2</th>\n",
       "      <td>Max</td>\n",
       "      <td>78</td>\n",
       "      <td>68</td>\n",
       "    </tr>\n",
       "    <tr>\n",
       "      <th>3</th>\n",
       "      <td>Lucas</td>\n",
       "      <td>87</td>\n",
       "      <td>90</td>\n",
       "    </tr>\n",
       "  </tbody>\n",
       "</table>\n",
       "</div>"
      ],
      "text/plain": [
       "  student  Maths  Pysics\n",
       "0     bob     40      78\n",
       "1   Alice     46      98\n",
       "2     Max     78      68\n",
       "3   Lucas     87      90"
      ]
     },
     "execution_count": 134,
     "metadata": {},
     "output_type": "execute_result"
    }
   ],
   "source": [
    "student=['bob','Alice','Max','Lucas']\n",
    "math_marks=[40,46,78,87]\n",
    "physics_marks=[78,98,68,90]\n",
    "df=pd.DataFrame({\n",
    "    'student':student,\n",
    "    'Maths':math_marks,\n",
    "    'Pysics':physics_marks\n",
    "})\n",
    "df"
   ]
  },
  {
   "cell_type": "markdown",
   "id": "e7e82a79-4f0e-4f10-9ce8-26f83f188a30",
   "metadata": {},
   "source": [
    "### Create a DataFrame from a dictionary containing 4 students’ names and their scores in two subjects.\n"
   ]
  },
  {
   "cell_type": "code",
   "execution_count": 133,
   "id": "c0034299-845a-4315-8323-1f9a5c494322",
   "metadata": {},
   "outputs": [
    {
     "data": {
      "text/html": [
       "<div>\n",
       "<style scoped>\n",
       "    .dataframe tbody tr th:only-of-type {\n",
       "        vertical-align: middle;\n",
       "    }\n",
       "\n",
       "    .dataframe tbody tr th {\n",
       "        vertical-align: top;\n",
       "    }\n",
       "\n",
       "    .dataframe thead th {\n",
       "        text-align: right;\n",
       "    }\n",
       "</style>\n",
       "<table border=\"1\" class=\"dataframe\">\n",
       "  <thead>\n",
       "    <tr style=\"text-align: right;\">\n",
       "      <th></th>\n",
       "      <th>student_names</th>\n",
       "      <th>Mathematics</th>\n",
       "      <th>Physics</th>\n",
       "    </tr>\n",
       "  </thead>\n",
       "  <tbody>\n",
       "    <tr>\n",
       "      <th>0</th>\n",
       "      <td>will</td>\n",
       "      <td>67</td>\n",
       "      <td>87</td>\n",
       "    </tr>\n",
       "    <tr>\n",
       "      <th>1</th>\n",
       "      <td>max</td>\n",
       "      <td>86</td>\n",
       "      <td>57</td>\n",
       "    </tr>\n",
       "    <tr>\n",
       "      <th>2</th>\n",
       "      <td>el</td>\n",
       "      <td>45</td>\n",
       "      <td>78</td>\n",
       "    </tr>\n",
       "    <tr>\n",
       "      <th>3</th>\n",
       "      <td>lucas</td>\n",
       "      <td>56</td>\n",
       "      <td>65</td>\n",
       "    </tr>\n",
       "  </tbody>\n",
       "</table>\n",
       "</div>"
      ],
      "text/plain": [
       "  student_names  Mathematics  Physics\n",
       "0          will           67       87\n",
       "1           max           86       57\n",
       "2            el           45       78\n",
       "3         lucas           56       65"
      ]
     },
     "execution_count": 133,
     "metadata": {},
     "output_type": "execute_result"
    }
   ],
   "source": [
    "dict1={\n",
    "    'student_names':['will','max','el','lucas'],\n",
    "    'Mathematics':[67,86,45,56],\n",
    "    'Physics':[87,57,78,65]\n",
    "\n",
    "}\n",
    "df=pd.DataFrame(dict1)\n",
    "df"
   ]
  },
  {
   "cell_type": "markdown",
   "id": "3b5bd310-83ab-4f1e-8965-7e8048af79cc",
   "metadata": {},
   "source": [
    "### Display only the first 3 rows and last 2 rows of a DataFrame.\n"
   ]
  },
  {
   "cell_type": "code",
   "execution_count": 132,
   "id": "f8277076-db5d-4c9b-9e5a-3cc8b19bc06c",
   "metadata": {},
   "outputs": [
    {
     "data": {
      "text/html": [
       "<div>\n",
       "<style scoped>\n",
       "    .dataframe tbody tr th:only-of-type {\n",
       "        vertical-align: middle;\n",
       "    }\n",
       "\n",
       "    .dataframe tbody tr th {\n",
       "        vertical-align: top;\n",
       "    }\n",
       "\n",
       "    .dataframe thead th {\n",
       "        text-align: right;\n",
       "    }\n",
       "</style>\n",
       "<table border=\"1\" class=\"dataframe\">\n",
       "  <thead>\n",
       "    <tr style=\"text-align: right;\">\n",
       "      <th></th>\n",
       "      <th>age</th>\n",
       "      <th>Name</th>\n",
       "    </tr>\n",
       "  </thead>\n",
       "  <tbody>\n",
       "    <tr>\n",
       "      <th>0</th>\n",
       "      <td>42</td>\n",
       "      <td>will</td>\n",
       "    </tr>\n",
       "    <tr>\n",
       "      <th>1</th>\n",
       "      <td>31</td>\n",
       "      <td>max</td>\n",
       "    </tr>\n",
       "    <tr>\n",
       "      <th>2</th>\n",
       "      <td>23</td>\n",
       "      <td>el</td>\n",
       "    </tr>\n",
       "  </tbody>\n",
       "</table>\n",
       "</div>"
      ],
      "text/plain": [
       "   age  Name\n",
       "0   42  will\n",
       "1   31   max\n",
       "2   23    el"
      ]
     },
     "execution_count": 132,
     "metadata": {},
     "output_type": "execute_result"
    }
   ],
   "source": [
    "age=[42,31,23,45]\n",
    "name=['will','max','el','lucas']\n",
    "df=pd.DataFrame({\n",
    "    'age':age,\n",
    "    'Name':name\n",
    "})\n",
    "df\n",
    "c=df.head(3)\n",
    "df.tail(2)\n",
    "c"
   ]
  },
  {
   "cell_type": "markdown",
   "id": "a8bd8803-53cd-48ae-babe-e903400eea66",
   "metadata": {},
   "source": [
    "### Select a single column and multiple columns from a DataFrame.\n"
   ]
  },
  {
   "cell_type": "code",
   "execution_count": 154,
   "id": "5c7e81ea-58a6-41fb-9644-6021d34e8328",
   "metadata": {},
   "outputs": [
    {
     "data": {
      "text/html": [
       "<div>\n",
       "<style scoped>\n",
       "    .dataframe tbody tr th:only-of-type {\n",
       "        vertical-align: middle;\n",
       "    }\n",
       "\n",
       "    .dataframe tbody tr th {\n",
       "        vertical-align: top;\n",
       "    }\n",
       "\n",
       "    .dataframe thead th {\n",
       "        text-align: right;\n",
       "    }\n",
       "</style>\n",
       "<table border=\"1\" class=\"dataframe\">\n",
       "  <thead>\n",
       "    <tr style=\"text-align: right;\">\n",
       "      <th></th>\n",
       "      <th>Name</th>\n",
       "      <th>Age</th>\n",
       "      <th>Math</th>\n",
       "      <th>Physics</th>\n",
       "    </tr>\n",
       "  </thead>\n",
       "  <tbody>\n",
       "    <tr>\n",
       "      <th>0</th>\n",
       "      <td>Will</td>\n",
       "      <td>42</td>\n",
       "      <td>67</td>\n",
       "      <td>87</td>\n",
       "    </tr>\n",
       "    <tr>\n",
       "      <th>1</th>\n",
       "      <td>Max</td>\n",
       "      <td>31</td>\n",
       "      <td>86</td>\n",
       "      <td>57</td>\n",
       "    </tr>\n",
       "    <tr>\n",
       "      <th>2</th>\n",
       "      <td>El</td>\n",
       "      <td>23</td>\n",
       "      <td>45</td>\n",
       "      <td>78</td>\n",
       "    </tr>\n",
       "    <tr>\n",
       "      <th>3</th>\n",
       "      <td>Lucas</td>\n",
       "      <td>45</td>\n",
       "      <td>56</td>\n",
       "      <td>65</td>\n",
       "    </tr>\n",
       "  </tbody>\n",
       "</table>\n",
       "</div>"
      ],
      "text/plain": [
       "    Name  Age  Math  Physics\n",
       "0   Will   42    67       87\n",
       "1    Max   31    86       57\n",
       "2     El   23    45       78\n",
       "3  Lucas   45    56       65"
      ]
     },
     "execution_count": 154,
     "metadata": {},
     "output_type": "execute_result"
    }
   ],
   "source": [
    "df = pd.DataFrame({\n",
    "    'Name': ['Will', 'Max', 'El', 'Lucas'],\n",
    "    'Age': [42, 31, 23, 45],\n",
    "    'Math': [67, 86, 45, 56],\n",
    "    'Physics': [87, 57, 78, 65]\n",
    "})\n",
    "\n",
    "df"
   ]
  },
  {
   "cell_type": "code",
   "execution_count": 155,
   "id": "deb4b872-c8ae-40df-9d08-0a8ad1cb5e62",
   "metadata": {},
   "outputs": [
    {
     "data": {
      "text/html": [
       "<div>\n",
       "<style scoped>\n",
       "    .dataframe tbody tr th:only-of-type {\n",
       "        vertical-align: middle;\n",
       "    }\n",
       "\n",
       "    .dataframe tbody tr th {\n",
       "        vertical-align: top;\n",
       "    }\n",
       "\n",
       "    .dataframe thead th {\n",
       "        text-align: right;\n",
       "    }\n",
       "</style>\n",
       "<table border=\"1\" class=\"dataframe\">\n",
       "  <thead>\n",
       "    <tr style=\"text-align: right;\">\n",
       "      <th></th>\n",
       "      <th>Name</th>\n",
       "    </tr>\n",
       "  </thead>\n",
       "  <tbody>\n",
       "    <tr>\n",
       "      <th>0</th>\n",
       "      <td>Will</td>\n",
       "    </tr>\n",
       "    <tr>\n",
       "      <th>1</th>\n",
       "      <td>Max</td>\n",
       "    </tr>\n",
       "    <tr>\n",
       "      <th>2</th>\n",
       "      <td>El</td>\n",
       "    </tr>\n",
       "    <tr>\n",
       "      <th>3</th>\n",
       "      <td>Lucas</td>\n",
       "    </tr>\n",
       "  </tbody>\n",
       "</table>\n",
       "</div>"
      ],
      "text/plain": [
       "    Name\n",
       "0   Will\n",
       "1    Max\n",
       "2     El\n",
       "3  Lucas"
      ]
     },
     "execution_count": 155,
     "metadata": {},
     "output_type": "execute_result"
    }
   ],
   "source": [
    "co1=df[['Name']]\n",
    "\n",
    "co1"
   ]
  },
  {
   "cell_type": "code",
   "execution_count": 156,
   "id": "ffb70a75-e11a-49a6-af60-29071048dba1",
   "metadata": {},
   "outputs": [
    {
     "data": {
      "text/html": [
       "<div>\n",
       "<style scoped>\n",
       "    .dataframe tbody tr th:only-of-type {\n",
       "        vertical-align: middle;\n",
       "    }\n",
       "\n",
       "    .dataframe tbody tr th {\n",
       "        vertical-align: top;\n",
       "    }\n",
       "\n",
       "    .dataframe thead th {\n",
       "        text-align: right;\n",
       "    }\n",
       "</style>\n",
       "<table border=\"1\" class=\"dataframe\">\n",
       "  <thead>\n",
       "    <tr style=\"text-align: right;\">\n",
       "      <th></th>\n",
       "      <th>Name</th>\n",
       "      <th>Age</th>\n",
       "    </tr>\n",
       "  </thead>\n",
       "  <tbody>\n",
       "    <tr>\n",
       "      <th>0</th>\n",
       "      <td>Will</td>\n",
       "      <td>42</td>\n",
       "    </tr>\n",
       "    <tr>\n",
       "      <th>1</th>\n",
       "      <td>Max</td>\n",
       "      <td>31</td>\n",
       "    </tr>\n",
       "    <tr>\n",
       "      <th>2</th>\n",
       "      <td>El</td>\n",
       "      <td>23</td>\n",
       "    </tr>\n",
       "    <tr>\n",
       "      <th>3</th>\n",
       "      <td>Lucas</td>\n",
       "      <td>45</td>\n",
       "    </tr>\n",
       "  </tbody>\n",
       "</table>\n",
       "</div>"
      ],
      "text/plain": [
       "    Name  Age\n",
       "0   Will   42\n",
       "1    Max   31\n",
       "2     El   23\n",
       "3  Lucas   45"
      ]
     },
     "execution_count": 156,
     "metadata": {},
     "output_type": "execute_result"
    }
   ],
   "source": [
    "mcol1=df[['Name','Age']]\n",
    "mcol1"
   ]
  },
  {
   "cell_type": "markdown",
   "id": "8da4fe65-a2e6-4295-9a83-ff7910cd7094",
   "metadata": {},
   "source": [
    "### Select rows based on a condition (e.g., scores greater than 80 in Math)."
   ]
  },
  {
   "cell_type": "code",
   "execution_count": 157,
   "id": "c54fdd82-98b1-4103-824a-77978af025a6",
   "metadata": {},
   "outputs": [
    {
     "data": {
      "text/html": [
       "<div>\n",
       "<style scoped>\n",
       "    .dataframe tbody tr th:only-of-type {\n",
       "        vertical-align: middle;\n",
       "    }\n",
       "\n",
       "    .dataframe tbody tr th {\n",
       "        vertical-align: top;\n",
       "    }\n",
       "\n",
       "    .dataframe thead th {\n",
       "        text-align: right;\n",
       "    }\n",
       "</style>\n",
       "<table border=\"1\" class=\"dataframe\">\n",
       "  <thead>\n",
       "    <tr style=\"text-align: right;\">\n",
       "      <th></th>\n",
       "      <th>Name</th>\n",
       "      <th>Age</th>\n",
       "      <th>Math</th>\n",
       "      <th>Physics</th>\n",
       "    </tr>\n",
       "  </thead>\n",
       "  <tbody>\n",
       "    <tr>\n",
       "      <th>0</th>\n",
       "      <td>Will</td>\n",
       "      <td>42</td>\n",
       "      <td>67</td>\n",
       "      <td>87</td>\n",
       "    </tr>\n",
       "    <tr>\n",
       "      <th>1</th>\n",
       "      <td>Max</td>\n",
       "      <td>31</td>\n",
       "      <td>86</td>\n",
       "      <td>57</td>\n",
       "    </tr>\n",
       "    <tr>\n",
       "      <th>2</th>\n",
       "      <td>El</td>\n",
       "      <td>23</td>\n",
       "      <td>45</td>\n",
       "      <td>78</td>\n",
       "    </tr>\n",
       "    <tr>\n",
       "      <th>3</th>\n",
       "      <td>Lucas</td>\n",
       "      <td>45</td>\n",
       "      <td>56</td>\n",
       "      <td>65</td>\n",
       "    </tr>\n",
       "  </tbody>\n",
       "</table>\n",
       "</div>"
      ],
      "text/plain": [
       "    Name  Age  Math  Physics\n",
       "0   Will   42    67       87\n",
       "1    Max   31    86       57\n",
       "2     El   23    45       78\n",
       "3  Lucas   45    56       65"
      ]
     },
     "execution_count": 157,
     "metadata": {},
     "output_type": "execute_result"
    }
   ],
   "source": [
    "df = pd.DataFrame({\n",
    "    'Name': ['Will', 'Max', 'El', 'Lucas'],\n",
    "    'Age': [42, 31, 23, 45],\n",
    "    'Math': [67, 86, 45, 56],\n",
    "    'Physics': [87, 57, 78, 65]\n",
    "})\n",
    "\n",
    "df"
   ]
  },
  {
   "cell_type": "code",
   "execution_count": 161,
   "id": "ed5084e5-070c-45fc-8c15-c933d7968472",
   "metadata": {},
   "outputs": [
    {
     "data": {
      "text/html": [
       "<div>\n",
       "<style scoped>\n",
       "    .dataframe tbody tr th:only-of-type {\n",
       "        vertical-align: middle;\n",
       "    }\n",
       "\n",
       "    .dataframe tbody tr th {\n",
       "        vertical-align: top;\n",
       "    }\n",
       "\n",
       "    .dataframe thead th {\n",
       "        text-align: right;\n",
       "    }\n",
       "</style>\n",
       "<table border=\"1\" class=\"dataframe\">\n",
       "  <thead>\n",
       "    <tr style=\"text-align: right;\">\n",
       "      <th></th>\n",
       "      <th>Name</th>\n",
       "      <th>Age</th>\n",
       "      <th>Math</th>\n",
       "      <th>Physics</th>\n",
       "    </tr>\n",
       "  </thead>\n",
       "  <tbody>\n",
       "    <tr>\n",
       "      <th>1</th>\n",
       "      <td>Max</td>\n",
       "      <td>31</td>\n",
       "      <td>86</td>\n",
       "      <td>57</td>\n",
       "    </tr>\n",
       "  </tbody>\n",
       "</table>\n",
       "</div>"
      ],
      "text/plain": [
       "  Name  Age  Math  Physics\n",
       "1  Max   31    86       57"
      ]
     },
     "execution_count": 161,
     "metadata": {},
     "output_type": "execute_result"
    }
   ],
   "source": [
    "a=df[df['Math']>80]\n",
    "a"
   ]
  },
  {
   "cell_type": "markdown",
   "id": "994f716f-6db8-4183-9f6c-93172e017c33",
   "metadata": {},
   "source": [
    "### Add a new column Total that sums up the scores of Math and Physics."
   ]
  },
  {
   "cell_type": "code",
   "execution_count": 162,
   "id": "e4cea080-6a0d-4d13-be99-0f64de06fb82",
   "metadata": {},
   "outputs": [
    {
     "data": {
      "text/html": [
       "<div>\n",
       "<style scoped>\n",
       "    .dataframe tbody tr th:only-of-type {\n",
       "        vertical-align: middle;\n",
       "    }\n",
       "\n",
       "    .dataframe tbody tr th {\n",
       "        vertical-align: top;\n",
       "    }\n",
       "\n",
       "    .dataframe thead th {\n",
       "        text-align: right;\n",
       "    }\n",
       "</style>\n",
       "<table border=\"1\" class=\"dataframe\">\n",
       "  <thead>\n",
       "    <tr style=\"text-align: right;\">\n",
       "      <th></th>\n",
       "      <th>Name</th>\n",
       "      <th>Age</th>\n",
       "      <th>Math</th>\n",
       "      <th>Physics</th>\n",
       "    </tr>\n",
       "  </thead>\n",
       "  <tbody>\n",
       "    <tr>\n",
       "      <th>0</th>\n",
       "      <td>Will</td>\n",
       "      <td>42</td>\n",
       "      <td>67</td>\n",
       "      <td>87</td>\n",
       "    </tr>\n",
       "    <tr>\n",
       "      <th>1</th>\n",
       "      <td>Max</td>\n",
       "      <td>31</td>\n",
       "      <td>86</td>\n",
       "      <td>57</td>\n",
       "    </tr>\n",
       "    <tr>\n",
       "      <th>2</th>\n",
       "      <td>El</td>\n",
       "      <td>23</td>\n",
       "      <td>45</td>\n",
       "      <td>78</td>\n",
       "    </tr>\n",
       "    <tr>\n",
       "      <th>3</th>\n",
       "      <td>Lucas</td>\n",
       "      <td>45</td>\n",
       "      <td>56</td>\n",
       "      <td>65</td>\n",
       "    </tr>\n",
       "  </tbody>\n",
       "</table>\n",
       "</div>"
      ],
      "text/plain": [
       "    Name  Age  Math  Physics\n",
       "0   Will   42    67       87\n",
       "1    Max   31    86       57\n",
       "2     El   23    45       78\n",
       "3  Lucas   45    56       65"
      ]
     },
     "execution_count": 162,
     "metadata": {},
     "output_type": "execute_result"
    }
   ],
   "source": [
    "df = pd.DataFrame({\n",
    "    'Name': ['Will', 'Max', 'El', 'Lucas'],\n",
    "    'Age': [42, 31, 23, 45],\n",
    "    'Math': [67, 86, 45, 56],\n",
    "    'Physics': [87, 57, 78, 65]\n",
    "})\n",
    "\n",
    "df"
   ]
  },
  {
   "cell_type": "code",
   "execution_count": 173,
   "id": "f0a8e53d-75b1-4994-ac8b-d643a4721281",
   "metadata": {},
   "outputs": [
    {
     "data": {
      "text/html": [
       "<div>\n",
       "<style scoped>\n",
       "    .dataframe tbody tr th:only-of-type {\n",
       "        vertical-align: middle;\n",
       "    }\n",
       "\n",
       "    .dataframe tbody tr th {\n",
       "        vertical-align: top;\n",
       "    }\n",
       "\n",
       "    .dataframe thead th {\n",
       "        text-align: right;\n",
       "    }\n",
       "</style>\n",
       "<table border=\"1\" class=\"dataframe\">\n",
       "  <thead>\n",
       "    <tr style=\"text-align: right;\">\n",
       "      <th></th>\n",
       "      <th>Name</th>\n",
       "      <th>Age</th>\n",
       "      <th>Math</th>\n",
       "      <th>Physics</th>\n",
       "      <th>total</th>\n",
       "    </tr>\n",
       "  </thead>\n",
       "  <tbody>\n",
       "    <tr>\n",
       "      <th>0</th>\n",
       "      <td>Will</td>\n",
       "      <td>42</td>\n",
       "      <td>67</td>\n",
       "      <td>87</td>\n",
       "      <td>154</td>\n",
       "    </tr>\n",
       "    <tr>\n",
       "      <th>1</th>\n",
       "      <td>Max</td>\n",
       "      <td>31</td>\n",
       "      <td>86</td>\n",
       "      <td>57</td>\n",
       "      <td>143</td>\n",
       "    </tr>\n",
       "    <tr>\n",
       "      <th>2</th>\n",
       "      <td>El</td>\n",
       "      <td>23</td>\n",
       "      <td>45</td>\n",
       "      <td>78</td>\n",
       "      <td>123</td>\n",
       "    </tr>\n",
       "    <tr>\n",
       "      <th>3</th>\n",
       "      <td>Lucas</td>\n",
       "      <td>45</td>\n",
       "      <td>56</td>\n",
       "      <td>65</td>\n",
       "      <td>121</td>\n",
       "    </tr>\n",
       "  </tbody>\n",
       "</table>\n",
       "</div>"
      ],
      "text/plain": [
       "    Name  Age  Math  Physics  total\n",
       "0   Will   42    67       87    154\n",
       "1    Max   31    86       57    143\n",
       "2     El   23    45       78    123\n",
       "3  Lucas   45    56       65    121"
      ]
     },
     "execution_count": 173,
     "metadata": {},
     "output_type": "execute_result"
    }
   ],
   "source": [
    "df['total']=df['Math']+df['Physics']\n",
    "\n",
    "df"
   ]
  },
  {
   "cell_type": "markdown",
   "id": "305b08e9-0c24-4fa4-9a8b-98ca13da77a8",
   "metadata": {},
   "source": [
    "### Rename the columns Math → Mathematics, Physics → PhysicsScore."
   ]
  },
  {
   "cell_type": "code",
   "execution_count": 174,
   "id": "42d3a345-2a7b-495b-a299-a8f182373538",
   "metadata": {},
   "outputs": [
    {
     "data": {
      "text/html": [
       "<div>\n",
       "<style scoped>\n",
       "    .dataframe tbody tr th:only-of-type {\n",
       "        vertical-align: middle;\n",
       "    }\n",
       "\n",
       "    .dataframe tbody tr th {\n",
       "        vertical-align: top;\n",
       "    }\n",
       "\n",
       "    .dataframe thead th {\n",
       "        text-align: right;\n",
       "    }\n",
       "</style>\n",
       "<table border=\"1\" class=\"dataframe\">\n",
       "  <thead>\n",
       "    <tr style=\"text-align: right;\">\n",
       "      <th></th>\n",
       "      <th>Name</th>\n",
       "      <th>Age</th>\n",
       "      <th>Math</th>\n",
       "      <th>Physics</th>\n",
       "    </tr>\n",
       "  </thead>\n",
       "  <tbody>\n",
       "    <tr>\n",
       "      <th>0</th>\n",
       "      <td>Will</td>\n",
       "      <td>42</td>\n",
       "      <td>67</td>\n",
       "      <td>87</td>\n",
       "    </tr>\n",
       "    <tr>\n",
       "      <th>1</th>\n",
       "      <td>Max</td>\n",
       "      <td>31</td>\n",
       "      <td>86</td>\n",
       "      <td>57</td>\n",
       "    </tr>\n",
       "    <tr>\n",
       "      <th>2</th>\n",
       "      <td>El</td>\n",
       "      <td>23</td>\n",
       "      <td>45</td>\n",
       "      <td>78</td>\n",
       "    </tr>\n",
       "    <tr>\n",
       "      <th>3</th>\n",
       "      <td>Lucas</td>\n",
       "      <td>45</td>\n",
       "      <td>56</td>\n",
       "      <td>65</td>\n",
       "    </tr>\n",
       "  </tbody>\n",
       "</table>\n",
       "</div>"
      ],
      "text/plain": [
       "    Name  Age  Math  Physics\n",
       "0   Will   42    67       87\n",
       "1    Max   31    86       57\n",
       "2     El   23    45       78\n",
       "3  Lucas   45    56       65"
      ]
     },
     "execution_count": 174,
     "metadata": {},
     "output_type": "execute_result"
    }
   ],
   "source": [
    "df = pd.DataFrame({\n",
    "    'Name': ['Will', 'Max', 'El', 'Lucas'],\n",
    "    'Age': [42, 31, 23, 45],\n",
    "    'Math': [67, 86, 45, 56],\n",
    "    'Physics': [87, 57, 78, 65]\n",
    "})\n",
    "\n",
    "df"
   ]
  },
  {
   "cell_type": "code",
   "execution_count": 180,
   "id": "1f4d6a92-3a56-4cb6-a038-566800f74198",
   "metadata": {},
   "outputs": [
    {
     "data": {
      "text/html": [
       "<div>\n",
       "<style scoped>\n",
       "    .dataframe tbody tr th:only-of-type {\n",
       "        vertical-align: middle;\n",
       "    }\n",
       "\n",
       "    .dataframe tbody tr th {\n",
       "        vertical-align: top;\n",
       "    }\n",
       "\n",
       "    .dataframe thead th {\n",
       "        text-align: right;\n",
       "    }\n",
       "</style>\n",
       "<table border=\"1\" class=\"dataframe\">\n",
       "  <thead>\n",
       "    <tr style=\"text-align: right;\">\n",
       "      <th></th>\n",
       "      <th>Name</th>\n",
       "      <th>Age</th>\n",
       "      <th>Mathematics</th>\n",
       "      <th>physicsscore</th>\n",
       "    </tr>\n",
       "  </thead>\n",
       "  <tbody>\n",
       "    <tr>\n",
       "      <th>0</th>\n",
       "      <td>Will</td>\n",
       "      <td>42</td>\n",
       "      <td>67</td>\n",
       "      <td>87</td>\n",
       "    </tr>\n",
       "    <tr>\n",
       "      <th>1</th>\n",
       "      <td>Max</td>\n",
       "      <td>31</td>\n",
       "      <td>86</td>\n",
       "      <td>57</td>\n",
       "    </tr>\n",
       "    <tr>\n",
       "      <th>2</th>\n",
       "      <td>El</td>\n",
       "      <td>23</td>\n",
       "      <td>45</td>\n",
       "      <td>78</td>\n",
       "    </tr>\n",
       "    <tr>\n",
       "      <th>3</th>\n",
       "      <td>Lucas</td>\n",
       "      <td>45</td>\n",
       "      <td>56</td>\n",
       "      <td>65</td>\n",
       "    </tr>\n",
       "  </tbody>\n",
       "</table>\n",
       "</div>"
      ],
      "text/plain": [
       "    Name  Age  Mathematics  physicsscore\n",
       "0   Will   42           67            87\n",
       "1    Max   31           86            57\n",
       "2     El   23           45            78\n",
       "3  Lucas   45           56            65"
      ]
     },
     "execution_count": 180,
     "metadata": {},
     "output_type": "execute_result"
    }
   ],
   "source": [
    "c=df.rename(columns={'Math':'Mathematics','Physics':'physicsscore'})\n",
    "c"
   ]
  },
  {
   "cell_type": "markdown",
   "id": "f9486f0a-11f4-4855-ba24-d9674fc875c8",
   "metadata": {},
   "source": [
    "### Drop a column from a DataFrame.\n"
   ]
  },
  {
   "cell_type": "code",
   "execution_count": 181,
   "id": "35dc3ae8-924a-492e-9f46-02f1c956d79f",
   "metadata": {},
   "outputs": [
    {
     "data": {
      "text/html": [
       "<div>\n",
       "<style scoped>\n",
       "    .dataframe tbody tr th:only-of-type {\n",
       "        vertical-align: middle;\n",
       "    }\n",
       "\n",
       "    .dataframe tbody tr th {\n",
       "        vertical-align: top;\n",
       "    }\n",
       "\n",
       "    .dataframe thead th {\n",
       "        text-align: right;\n",
       "    }\n",
       "</style>\n",
       "<table border=\"1\" class=\"dataframe\">\n",
       "  <thead>\n",
       "    <tr style=\"text-align: right;\">\n",
       "      <th></th>\n",
       "      <th>Name</th>\n",
       "      <th>Age</th>\n",
       "      <th>Math</th>\n",
       "      <th>Physics</th>\n",
       "    </tr>\n",
       "  </thead>\n",
       "  <tbody>\n",
       "    <tr>\n",
       "      <th>0</th>\n",
       "      <td>Will</td>\n",
       "      <td>42</td>\n",
       "      <td>67</td>\n",
       "      <td>87</td>\n",
       "    </tr>\n",
       "    <tr>\n",
       "      <th>1</th>\n",
       "      <td>Max</td>\n",
       "      <td>31</td>\n",
       "      <td>86</td>\n",
       "      <td>57</td>\n",
       "    </tr>\n",
       "    <tr>\n",
       "      <th>2</th>\n",
       "      <td>El</td>\n",
       "      <td>23</td>\n",
       "      <td>45</td>\n",
       "      <td>78</td>\n",
       "    </tr>\n",
       "    <tr>\n",
       "      <th>3</th>\n",
       "      <td>Lucas</td>\n",
       "      <td>45</td>\n",
       "      <td>56</td>\n",
       "      <td>65</td>\n",
       "    </tr>\n",
       "  </tbody>\n",
       "</table>\n",
       "</div>"
      ],
      "text/plain": [
       "    Name  Age  Math  Physics\n",
       "0   Will   42    67       87\n",
       "1    Max   31    86       57\n",
       "2     El   23    45       78\n",
       "3  Lucas   45    56       65"
      ]
     },
     "execution_count": 181,
     "metadata": {},
     "output_type": "execute_result"
    }
   ],
   "source": [
    "df = pd.DataFrame({\n",
    "    'Name': ['Will', 'Max', 'El', 'Lucas'],\n",
    "    'Age': [42, 31, 23, 45],\n",
    "    'Math': [67, 86, 45, 56],\n",
    "    'Physics': [87, 57, 78, 65]\n",
    "})\n",
    "\n",
    "df"
   ]
  },
  {
   "cell_type": "code",
   "execution_count": 190,
   "id": "d758d336-d059-490b-9532-f0e284985fc0",
   "metadata": {},
   "outputs": [
    {
     "data": {
      "text/html": [
       "<div>\n",
       "<style scoped>\n",
       "    .dataframe tbody tr th:only-of-type {\n",
       "        vertical-align: middle;\n",
       "    }\n",
       "\n",
       "    .dataframe tbody tr th {\n",
       "        vertical-align: top;\n",
       "    }\n",
       "\n",
       "    .dataframe thead th {\n",
       "        text-align: right;\n",
       "    }\n",
       "</style>\n",
       "<table border=\"1\" class=\"dataframe\">\n",
       "  <thead>\n",
       "    <tr style=\"text-align: right;\">\n",
       "      <th></th>\n",
       "      <th>Name</th>\n",
       "      <th>Math</th>\n",
       "      <th>Physics</th>\n",
       "    </tr>\n",
       "  </thead>\n",
       "  <tbody>\n",
       "    <tr>\n",
       "      <th>0</th>\n",
       "      <td>Will</td>\n",
       "      <td>67</td>\n",
       "      <td>87</td>\n",
       "    </tr>\n",
       "    <tr>\n",
       "      <th>1</th>\n",
       "      <td>Max</td>\n",
       "      <td>86</td>\n",
       "      <td>57</td>\n",
       "    </tr>\n",
       "    <tr>\n",
       "      <th>2</th>\n",
       "      <td>El</td>\n",
       "      <td>45</td>\n",
       "      <td>78</td>\n",
       "    </tr>\n",
       "    <tr>\n",
       "      <th>3</th>\n",
       "      <td>Lucas</td>\n",
       "      <td>56</td>\n",
       "      <td>65</td>\n",
       "    </tr>\n",
       "  </tbody>\n",
       "</table>\n",
       "</div>"
      ],
      "text/plain": [
       "    Name  Math  Physics\n",
       "0   Will    67       87\n",
       "1    Max    86       57\n",
       "2     El    45       78\n",
       "3  Lucas    56       65"
      ]
     },
     "execution_count": 190,
     "metadata": {},
     "output_type": "execute_result"
    }
   ],
   "source": [
    "c=df.drop(columns='Age')\n",
    "c"
   ]
  },
  {
   "cell_type": "markdown",
   "id": "efd079d5-c3f2-4703-8720-8b6d0037a4a3",
   "metadata": {},
   "source": [
    "### Create a DataFrame from a NumPy array of shape (5,3) and assign custom column names.\n",
    "\n"
   ]
  },
  {
   "cell_type": "code",
   "execution_count": 197,
   "id": "5aa1e041-40bf-406b-b3e6-7c47cd016ad9",
   "metadata": {},
   "outputs": [
    {
     "data": {
      "text/plain": [
       "array([[ 1,  2,  3],\n",
       "       [ 4,  5,  6],\n",
       "       [ 7,  8,  9],\n",
       "       [10, 11, 12],\n",
       "       [13, 14, 15]])"
      ]
     },
     "execution_count": 197,
     "metadata": {},
     "output_type": "execute_result"
    }
   ],
   "source": [
    "a=np.arange(1,16).reshape(5,3)\n",
    "a"
   ]
  },
  {
   "cell_type": "code",
   "execution_count": 199,
   "id": "0ecc727c-e7b7-48d1-a3b8-e9ef4551827f",
   "metadata": {},
   "outputs": [
    {
     "data": {
      "text/html": [
       "<div>\n",
       "<style scoped>\n",
       "    .dataframe tbody tr th:only-of-type {\n",
       "        vertical-align: middle;\n",
       "    }\n",
       "\n",
       "    .dataframe tbody tr th {\n",
       "        vertical-align: top;\n",
       "    }\n",
       "\n",
       "    .dataframe thead th {\n",
       "        text-align: right;\n",
       "    }\n",
       "</style>\n",
       "<table border=\"1\" class=\"dataframe\">\n",
       "  <thead>\n",
       "    <tr style=\"text-align: right;\">\n",
       "      <th></th>\n",
       "      <th>Column1</th>\n",
       "      <th>Column2</th>\n",
       "      <th>Column3</th>\n",
       "    </tr>\n",
       "  </thead>\n",
       "  <tbody>\n",
       "    <tr>\n",
       "      <th>0</th>\n",
       "      <td>1</td>\n",
       "      <td>2</td>\n",
       "      <td>3</td>\n",
       "    </tr>\n",
       "    <tr>\n",
       "      <th>1</th>\n",
       "      <td>4</td>\n",
       "      <td>5</td>\n",
       "      <td>6</td>\n",
       "    </tr>\n",
       "    <tr>\n",
       "      <th>2</th>\n",
       "      <td>7</td>\n",
       "      <td>8</td>\n",
       "      <td>9</td>\n",
       "    </tr>\n",
       "    <tr>\n",
       "      <th>3</th>\n",
       "      <td>10</td>\n",
       "      <td>11</td>\n",
       "      <td>12</td>\n",
       "    </tr>\n",
       "    <tr>\n",
       "      <th>4</th>\n",
       "      <td>13</td>\n",
       "      <td>14</td>\n",
       "      <td>15</td>\n",
       "    </tr>\n",
       "  </tbody>\n",
       "</table>\n",
       "</div>"
      ],
      "text/plain": [
       "   Column1  Column2  Column3\n",
       "0        1        2        3\n",
       "1        4        5        6\n",
       "2        7        8        9\n",
       "3       10       11       12\n",
       "4       13       14       15"
      ]
     },
     "execution_count": 199,
     "metadata": {},
     "output_type": "execute_result"
    }
   ],
   "source": [
    "df=pd.DataFrame(a, columns=['Column1', 'Column2', 'Column3'])\n",
    "df"
   ]
  },
  {
   "cell_type": "markdown",
   "id": "8d319afe-45f3-425e-addb-c5c6a7d99dcf",
   "metadata": {},
   "source": [
    "### Sort the DataFrame by a column in ascending and descending order."
   ]
  },
  {
   "cell_type": "code",
   "execution_count": 201,
   "id": "2bada248-ccbd-4fae-9914-64d75e14023a",
   "metadata": {},
   "outputs": [
    {
     "data": {
      "text/html": [
       "<div>\n",
       "<style scoped>\n",
       "    .dataframe tbody tr th:only-of-type {\n",
       "        vertical-align: middle;\n",
       "    }\n",
       "\n",
       "    .dataframe tbody tr th {\n",
       "        vertical-align: top;\n",
       "    }\n",
       "\n",
       "    .dataframe thead th {\n",
       "        text-align: right;\n",
       "    }\n",
       "</style>\n",
       "<table border=\"1\" class=\"dataframe\">\n",
       "  <thead>\n",
       "    <tr style=\"text-align: right;\">\n",
       "      <th></th>\n",
       "      <th>Name</th>\n",
       "      <th>Math</th>\n",
       "      <th>Physics</th>\n",
       "    </tr>\n",
       "  </thead>\n",
       "  <tbody>\n",
       "    <tr>\n",
       "      <th>0</th>\n",
       "      <td>Alice</td>\n",
       "      <td>85</td>\n",
       "      <td>92</td>\n",
       "    </tr>\n",
       "    <tr>\n",
       "      <th>1</th>\n",
       "      <td>Bob</td>\n",
       "      <td>90</td>\n",
       "      <td>88</td>\n",
       "    </tr>\n",
       "    <tr>\n",
       "      <th>2</th>\n",
       "      <td>Charlie</td>\n",
       "      <td>78</td>\n",
       "      <td>80</td>\n",
       "    </tr>\n",
       "    <tr>\n",
       "      <th>3</th>\n",
       "      <td>David</td>\n",
       "      <td>92</td>\n",
       "      <td>95</td>\n",
       "    </tr>\n",
       "  </tbody>\n",
       "</table>\n",
       "</div>"
      ],
      "text/plain": [
       "      Name  Math  Physics\n",
       "0    Alice    85       92\n",
       "1      Bob    90       88\n",
       "2  Charlie    78       80\n",
       "3    David    92       95"
      ]
     },
     "execution_count": 201,
     "metadata": {},
     "output_type": "execute_result"
    }
   ],
   "source": [
    "data = {\n",
    "    'Name': ['Alice', 'Bob', 'Charlie', 'David'],\n",
    "    'Math': [85, 90, 78, 92],\n",
    "    'Physics': [92, 88, 80, 95]\n",
    "}\n",
    "\n",
    "df = pd.DataFrame(data)\n",
    "df"
   ]
  },
  {
   "cell_type": "code",
   "execution_count": 205,
   "id": "8d54e355-34f8-41bf-a684-787b085c1bfc",
   "metadata": {},
   "outputs": [
    {
     "data": {
      "text/html": [
       "<div>\n",
       "<style scoped>\n",
       "    .dataframe tbody tr th:only-of-type {\n",
       "        vertical-align: middle;\n",
       "    }\n",
       "\n",
       "    .dataframe tbody tr th {\n",
       "        vertical-align: top;\n",
       "    }\n",
       "\n",
       "    .dataframe thead th {\n",
       "        text-align: right;\n",
       "    }\n",
       "</style>\n",
       "<table border=\"1\" class=\"dataframe\">\n",
       "  <thead>\n",
       "    <tr style=\"text-align: right;\">\n",
       "      <th></th>\n",
       "      <th>Name</th>\n",
       "      <th>Math</th>\n",
       "      <th>Physics</th>\n",
       "    </tr>\n",
       "  </thead>\n",
       "  <tbody>\n",
       "    <tr>\n",
       "      <th>2</th>\n",
       "      <td>Charlie</td>\n",
       "      <td>78</td>\n",
       "      <td>80</td>\n",
       "    </tr>\n",
       "    <tr>\n",
       "      <th>0</th>\n",
       "      <td>Alice</td>\n",
       "      <td>85</td>\n",
       "      <td>92</td>\n",
       "    </tr>\n",
       "    <tr>\n",
       "      <th>1</th>\n",
       "      <td>Bob</td>\n",
       "      <td>90</td>\n",
       "      <td>88</td>\n",
       "    </tr>\n",
       "    <tr>\n",
       "      <th>3</th>\n",
       "      <td>David</td>\n",
       "      <td>92</td>\n",
       "      <td>95</td>\n",
       "    </tr>\n",
       "  </tbody>\n",
       "</table>\n",
       "</div>"
      ],
      "text/plain": [
       "      Name  Math  Physics\n",
       "2  Charlie    78       80\n",
       "0    Alice    85       92\n",
       "1      Bob    90       88\n",
       "3    David    92       95"
      ]
     },
     "execution_count": 205,
     "metadata": {},
     "output_type": "execute_result"
    }
   ],
   "source": [
    "asort=df.sort_values(by='Math',ascending=True)\n",
    "asort"
   ]
  },
  {
   "cell_type": "code",
   "execution_count": 208,
   "id": "dd651db6-bd16-40aa-b764-222a76b76fdd",
   "metadata": {},
   "outputs": [
    {
     "data": {
      "text/html": [
       "<div>\n",
       "<style scoped>\n",
       "    .dataframe tbody tr th:only-of-type {\n",
       "        vertical-align: middle;\n",
       "    }\n",
       "\n",
       "    .dataframe tbody tr th {\n",
       "        vertical-align: top;\n",
       "    }\n",
       "\n",
       "    .dataframe thead th {\n",
       "        text-align: right;\n",
       "    }\n",
       "</style>\n",
       "<table border=\"1\" class=\"dataframe\">\n",
       "  <thead>\n",
       "    <tr style=\"text-align: right;\">\n",
       "      <th></th>\n",
       "      <th>Name</th>\n",
       "      <th>Math</th>\n",
       "      <th>Physics</th>\n",
       "    </tr>\n",
       "  </thead>\n",
       "  <tbody>\n",
       "    <tr>\n",
       "      <th>3</th>\n",
       "      <td>David</td>\n",
       "      <td>92</td>\n",
       "      <td>95</td>\n",
       "    </tr>\n",
       "    <tr>\n",
       "      <th>1</th>\n",
       "      <td>Bob</td>\n",
       "      <td>90</td>\n",
       "      <td>88</td>\n",
       "    </tr>\n",
       "    <tr>\n",
       "      <th>0</th>\n",
       "      <td>Alice</td>\n",
       "      <td>85</td>\n",
       "      <td>92</td>\n",
       "    </tr>\n",
       "    <tr>\n",
       "      <th>2</th>\n",
       "      <td>Charlie</td>\n",
       "      <td>78</td>\n",
       "      <td>80</td>\n",
       "    </tr>\n",
       "  </tbody>\n",
       "</table>\n",
       "</div>"
      ],
      "text/plain": [
       "      Name  Math  Physics\n",
       "3    David    92       95\n",
       "1      Bob    90       88\n",
       "0    Alice    85       92\n",
       "2  Charlie    78       80"
      ]
     },
     "execution_count": 208,
     "metadata": {},
     "output_type": "execute_result"
    }
   ],
   "source": [
    "dsort=df.sort_values(by='Math',ascending=False)\n",
    "dsort"
   ]
  },
  {
   "cell_type": "code",
   "execution_count": 217,
   "id": "98734216-0c97-41c1-9431-fb5f34912ef3",
   "metadata": {},
   "outputs": [
    {
     "data": {
      "text/html": [
       "<div>\n",
       "<style scoped>\n",
       "    .dataframe tbody tr th:only-of-type {\n",
       "        vertical-align: middle;\n",
       "    }\n",
       "\n",
       "    .dataframe tbody tr th {\n",
       "        vertical-align: top;\n",
       "    }\n",
       "\n",
       "    .dataframe thead th {\n",
       "        text-align: right;\n",
       "    }\n",
       "</style>\n",
       "<table border=\"1\" class=\"dataframe\">\n",
       "  <thead>\n",
       "    <tr style=\"text-align: right;\">\n",
       "      <th></th>\n",
       "      <th>a</th>\n",
       "      <th>b</th>\n",
       "      <th>c</th>\n",
       "      <th>d</th>\n",
       "    </tr>\n",
       "  </thead>\n",
       "  <tbody>\n",
       "    <tr>\n",
       "      <th>0</th>\n",
       "      <td>30</td>\n",
       "      <td>31</td>\n",
       "      <td>32</td>\n",
       "      <td>33</td>\n",
       "    </tr>\n",
       "    <tr>\n",
       "      <th>1</th>\n",
       "      <td>34</td>\n",
       "      <td>35</td>\n",
       "      <td>36</td>\n",
       "      <td>37</td>\n",
       "    </tr>\n",
       "    <tr>\n",
       "      <th>2</th>\n",
       "      <td>38</td>\n",
       "      <td>39</td>\n",
       "      <td>40</td>\n",
       "      <td>41</td>\n",
       "    </tr>\n",
       "  </tbody>\n",
       "</table>\n",
       "</div>"
      ],
      "text/plain": [
       "    a   b   c   d\n",
       "0  30  31  32  33\n",
       "1  34  35  36  37\n",
       "2  38  39  40  41"
      ]
     },
     "execution_count": 217,
     "metadata": {},
     "output_type": "execute_result"
    }
   ],
   "source": [
    "a=np.arange(30,42).reshape(3,4)\n",
    "df=pd.DataFrame(a, columns=['a', 'b', 'c','d'])\n",
    "df\n"
   ]
  },
  {
   "cell_type": "code",
   "execution_count": 219,
   "id": "59c037f6-5ff3-4b1a-8f2c-24819799594e",
   "metadata": {},
   "outputs": [
    {
     "data": {
      "text/html": [
       "<div>\n",
       "<style scoped>\n",
       "    .dataframe tbody tr th:only-of-type {\n",
       "        vertical-align: middle;\n",
       "    }\n",
       "\n",
       "    .dataframe tbody tr th {\n",
       "        vertical-align: top;\n",
       "    }\n",
       "\n",
       "    .dataframe thead th {\n",
       "        text-align: right;\n",
       "    }\n",
       "</style>\n",
       "<table border=\"1\" class=\"dataframe\">\n",
       "  <thead>\n",
       "    <tr style=\"text-align: right;\">\n",
       "      <th></th>\n",
       "      <th>Maths</th>\n",
       "      <th>Chemistry</th>\n",
       "      <th>physics</th>\n",
       "      <th>biology</th>\n",
       "    </tr>\n",
       "  </thead>\n",
       "  <tbody>\n",
       "    <tr>\n",
       "      <th>0</th>\n",
       "      <td>30</td>\n",
       "      <td>31</td>\n",
       "      <td>32</td>\n",
       "      <td>33</td>\n",
       "    </tr>\n",
       "    <tr>\n",
       "      <th>1</th>\n",
       "      <td>34</td>\n",
       "      <td>35</td>\n",
       "      <td>36</td>\n",
       "      <td>37</td>\n",
       "    </tr>\n",
       "    <tr>\n",
       "      <th>2</th>\n",
       "      <td>38</td>\n",
       "      <td>39</td>\n",
       "      <td>40</td>\n",
       "      <td>41</td>\n",
       "    </tr>\n",
       "  </tbody>\n",
       "</table>\n",
       "</div>"
      ],
      "text/plain": [
       "   Maths  Chemistry  physics  biology\n",
       "0     30         31       32       33\n",
       "1     34         35       36       37\n",
       "2     38         39       40       41"
      ]
     },
     "execution_count": 219,
     "metadata": {},
     "output_type": "execute_result"
    }
   ],
   "source": [
    "new=df.rename(columns={'a':'Maths','b':'Chemistry','c':'physics','d':'biology'})\n",
    "new"
   ]
  },
  {
   "cell_type": "code",
   "execution_count": 224,
   "id": "f762ca1e-eaeb-4473-a944-bc6248656bff",
   "metadata": {},
   "outputs": [
    {
     "data": {
      "text/html": [
       "<div>\n",
       "<style scoped>\n",
       "    .dataframe tbody tr th:only-of-type {\n",
       "        vertical-align: middle;\n",
       "    }\n",
       "\n",
       "    .dataframe tbody tr th {\n",
       "        vertical-align: top;\n",
       "    }\n",
       "\n",
       "    .dataframe thead th {\n",
       "        text-align: right;\n",
       "    }\n",
       "</style>\n",
       "<table border=\"1\" class=\"dataframe\">\n",
       "  <thead>\n",
       "    <tr style=\"text-align: right;\">\n",
       "      <th></th>\n",
       "      <th>Maths</th>\n",
       "      <th>Chemistry</th>\n",
       "      <th>physics</th>\n",
       "      <th>biology</th>\n",
       "      <th>total</th>\n",
       "    </tr>\n",
       "  </thead>\n",
       "  <tbody>\n",
       "    <tr>\n",
       "      <th>0</th>\n",
       "      <td>30</td>\n",
       "      <td>31</td>\n",
       "      <td>32</td>\n",
       "      <td>33</td>\n",
       "      <td>126</td>\n",
       "    </tr>\n",
       "    <tr>\n",
       "      <th>1</th>\n",
       "      <td>34</td>\n",
       "      <td>35</td>\n",
       "      <td>36</td>\n",
       "      <td>37</td>\n",
       "      <td>142</td>\n",
       "    </tr>\n",
       "    <tr>\n",
       "      <th>2</th>\n",
       "      <td>38</td>\n",
       "      <td>39</td>\n",
       "      <td>40</td>\n",
       "      <td>41</td>\n",
       "      <td>158</td>\n",
       "    </tr>\n",
       "  </tbody>\n",
       "</table>\n",
       "</div>"
      ],
      "text/plain": [
       "   Maths  Chemistry  physics  biology  total\n",
       "0     30         31       32       33    126\n",
       "1     34         35       36       37    142\n",
       "2     38         39       40       41    158"
      ]
     },
     "execution_count": 224,
     "metadata": {},
     "output_type": "execute_result"
    }
   ],
   "source": [
    "new['total']=df.sum(axis=1)\n",
    "new"
   ]
  },
  {
   "cell_type": "code",
   "execution_count": null,
   "id": "ed8d824c-68ba-41f7-9337-0214613e24ae",
   "metadata": {},
   "outputs": [],
   "source": []
  },
  {
   "cell_type": "code",
   "execution_count": null,
   "id": "c0bd01dc-753b-4707-8699-d98e072c8347",
   "metadata": {},
   "outputs": [],
   "source": []
  }
 ],
 "metadata": {
  "kernelspec": {
   "display_name": "Python 3 (ipykernel)",
   "language": "python",
   "name": "python3"
  },
  "language_info": {
   "codemirror_mode": {
    "name": "ipython",
    "version": 3
   },
   "file_extension": ".py",
   "mimetype": "text/x-python",
   "name": "python",
   "nbconvert_exporter": "python",
   "pygments_lexer": "ipython3",
   "version": "3.13.5"
  }
 },
 "nbformat": 4,
 "nbformat_minor": 5
}
